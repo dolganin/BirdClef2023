{
 "cells": [
  {
   "cell_type": "code",
   "execution_count": null,
   "id": "a0d35b6a-b815-41a7-baff-aa9e17c1f346",
   "metadata": {},
   "outputs": [],
   "source": [
    "#imports\n",
    "import os\n",
    "import timm\n",
    "import torch\n",
    "import numpy as np \n",
    "import pandas as pd\n",
    "import librosa as lb\n",
    "import torch.nn as nn\n",
    "import soundfile as sf\n",
    "import yaml\n",
    "\n",
    "from torch.optim import AdamW\n",
    "from torch.utils.data import Dataset, DataLoader\n",
    "from sklearn.metrics import average_precision_score\n",
    "import torchvision.transforms as transforms\n",
    "from  soundfile import SoundFile \n",
    "from sklearn.model_selection import train_test_split\n",
    "\n",
    "device = 'cuda:0' if torch.cuda.is_available() else 'cpu'\n",
    "\n",
    "bs = 32\n",
    "classnum = 264\n",
    "n_mels = 224\n",
    "epochs = 10\n",
    "lr = 3e-3\n"
   ]
  }
 ],
 "metadata": {
  "kernelspec": {
   "display_name": "Python 3 (ipykernel)",
   "language": "python",
   "name": "python3"
  },
  "language_info": {
   "codemirror_mode": {
    "name": "ipython",
    "version": 3
   },
   "file_extension": ".py",
   "mimetype": "text/x-python",
   "name": "python",
   "nbconvert_exporter": "python",
   "pygments_lexer": "ipython3",
   "version": "3.12.2"
  }
 },
 "nbformat": 4,
 "nbformat_minor": 5
}
